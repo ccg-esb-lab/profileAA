{
 "cells": [
  {
   "cell_type": "code",
   "execution_count": 1,
   "metadata": {},
   "outputs": [
    {
     "data": {
      "text/plain": [
       "Plots.PyPlotBackend()"
      ]
     },
     "execution_count": 1,
     "metadata": {},
     "output_type": "execute_result"
    }
   ],
   "source": [
    "using Plots #v0.29.9\n",
    "using DataFrames #v0.22.5\n",
    "using IterableTables #v1.0.0\n",
    "using LsqFit #v0.10.0\n",
    "using Dierckx #v0.4.2\n",
    "using DifferentialEquations #v6.10.1\n",
    "using ColorSchemes #v3.10.2\n",
    "using Statistics\n",
    "using CSV\n",
    "theme(:wong)\n",
    "pyplot()"
   ]
  },
  {
   "cell_type": "code",
   "execution_count": 2,
   "metadata": {},
   "outputs": [],
   "source": [
    "#Define strain object\n",
    "mutable struct Strain \n",
    "    Vm::Float64 #Vmax\n",
    "    Km::Float64 #Km\n",
    "    \n",
    "    TEb::Float64 #basal transcription rate for the genes belonging to the E fraction\n",
    "    TRb::Float64 #basal transcription rate for the genes belonging to the R fraction\n",
    "    TsE::Float64 #maximum transcription rate for the genes of thE E fraction\n",
    "    TsR::Float64 #maximum transcription rate for the genes of thE R fraction\n",
    "    \n",
    "    n::Float64 #Hill coeficient\n",
    "    θE::Float64 #activity threshold for ppGpp\n",
    "    θR::Float64 #activity threshold for ppGpp\n",
    "    θG::Float64 #synthesis threshold for ppGpp\n",
    "    \n",
    "    TlE::Float64 #maxumim translation rate for the mRNA of the E fraction\n",
    "    TlR::Float64 #maxumim translation rate for the mRNA of the R fraction\n",
    "    \n",
    "    ηE::Float64 #degradation rate of the trascripts belonging to the E sector\n",
    "    ηR::Float64 #degradation rate of the trascripts belonging to the R sector\n",
    "    δE::Float64 #degradation rate of molecules belonging to the E sector\n",
    "    δR::Float64 #degradation rate of proteins belonging to the R sector\n",
    "    δG::Float64 #degradation rate of ppGpp\n",
    "    \n",
    "    JE::Float64 #fraction of ribosomes translating proteins belonging to the E sector\n",
    "    JR::Float64 #fraction of ribosomes translating proteins belonging to the R sector\n",
    "    \n",
    "    σb::Float64 #basal ppGpp synthesis rate\n",
    "    σi::Float64 #induced ppGpp synthesis rate\n",
    "\n",
    "    kn::Float64 #Proportionalilty constant for Growth rate ~ Ribosomes\n",
    "    c::Float64 #resourse conversion constant\n",
    "    \n",
    "    leak::Float64 #Leakage coefficient\n",
    "    ψ::Float64 #Amino acid cost\n",
    "end"
   ]
  },
  {
   "cell_type": "markdown",
   "metadata": {},
   "source": [
    "# Proteome model\n",
    "\n",
    "## Equations"
   ]
  },
  {
   "cell_type": "code",
   "execution_count": 3,
   "metadata": {},
   "outputs": [
    {
     "data": {
      "text/plain": [
       "model_proteome (generic function with 1 method)"
      ]
     },
     "execution_count": 3,
     "metadata": {},
     "output_type": "execute_result"
    }
   ],
   "source": [
    "function model_proteome(du,u,p,t)\n",
    "    mE, mR, e, aap, R, G = u\n",
    "    Vm, S, aa, Km, TEb, TsE, n, θE, ηE, TRb, TsR, θR, ηR, ψ, TlE, JE, δE, TlR, JR, δR, σb, σi, θG, δG = p\n",
    "    \n",
    "    #Transcription\n",
    "    du[1] = dmE = (((Vm*(S*aa)) / (Km+(S*aa))) * TEb) + TsE * (G^n/(G^n+θE^n)) - (ηE * mE)\n",
    "    du[2] = dmR = (((Vm*(S*aa)) / (Km+(S*aa))) * TRb) + TsR * (θR^n/(G^n+θR^n)) - (ηR * mR)\n",
    "    \n",
    "    #Proteome fractions\n",
    "    du[3] = de = (1-ψ) * (TlE * mE) * (1-e/R*JE) - (δE * e)\n",
    "    du[4] = daap = ψ * (TlE * mE) * (1-aap/R*JE) - (δE * aap)\n",
    "    du[5] = dR = (TlR * mR) * (1-R/R*JR) - (δR * R)\n",
    "    \n",
    "    #Resource allocation regulation\n",
    "    du[6] = dG = σb + (σi * (R^n / (R^n + θG^n))) - (δG * G) #Strain\n",
    "\n",
    "end"
   ]
  },
  {
   "cell_type": "markdown",
   "metadata": {},
   "source": [
    "## Parameters"
   ]
  },
  {
   "cell_type": "code",
   "execution_count": 4,
   "metadata": {},
   "outputs": [
    {
     "data": {
      "text/plain": [
       "(0.0, 50.0)"
      ]
     },
     "execution_count": 4,
     "metadata": {},
     "output_type": "execute_result"
    }
   ],
   "source": [
    "mE0 = 1.0 #E fraction mRNA concentration\n",
    "mR0 = 1.0 #E fraction mRNA concentration\n",
    "e0 = 1.0 #Catabolic sector of the E fraction\n",
    "aap0 = 1.0 #Amino acid production sector of the E fraction\n",
    "R0 = 1.0 #R fraction\n",
    "G0 = 0.01 #ppGpp\n",
    "\n",
    "u0_prot = [mE0; mR0; e0; aap0; R0; G0]\n",
    "\n",
    "#Time interval\n",
    "tspan_prot = (0.0,50.0)"
   ]
  },
  {
   "cell_type": "code",
   "execution_count": 5,
   "metadata": {},
   "outputs": [
    {
     "data": {
      "text/plain": [
       "Strain(15.0, 1.0, 0.5, 0.5, 1.0, 1.0, 2.0, 1.0, 1.0, 1.0, 1.0, 1.0, 1.0, 1.0, 0.01, 0.01, 0.01, 0.5, 0.5, 0.1, 0.5, 2.0, 1.0, 0.5, 0.5)"
      ]
     },
     "execution_count": 5,
     "metadata": {},
     "output_type": "execute_result"
    }
   ],
   "source": [
    "#Strain X\n",
    "stx = Strain(15.0, #Vmax\n",
    "    1.0, #Km\n",
    "    0.5, #TEb\n",
    "    0.5, #TRb\n",
    "    1.0, #TsE\n",
    "    1.0, #TsR\n",
    "    2.0, #n\n",
    "    1.0, #θE\n",
    "    1.0, #θR\n",
    "    1.0, #θG\n",
    "    1.0, #TlE\n",
    "    1.0, #TlR\n",
    "    1.0, #ηE\n",
    "    1.0, #ηR\n",
    "    0.01, #δE\n",
    "    0.01, #δR\n",
    "    0.01, #δG\n",
    "    0.5, #JE\n",
    "    0.5, #JR\n",
    "    0.1, #σb\n",
    "    0.5, #σi\n",
    "    2.0, #kn\n",
    "    1, #e8, #c\n",
    "    0.5, #leak\n",
    "    0.5 #ψ\n",
    ")"
   ]
  },
  {
   "cell_type": "code",
   "execution_count": 6,
   "metadata": {},
   "outputs": [
    {
     "data": {
      "text/plain": [
       "Strain(15.0, 1.0, 0.5, 0.5, 1.0, 1.0, 2.0, 1.0, 1.0, 1.0, 1.0, 1.0, 1.0, 1.0, 0.1, 0.1, 0.1, 0.5, 0.5, 0.1, 0.5, 1.0, 1.0, 0.5, 0.5)"
      ]
     },
     "execution_count": 6,
     "metadata": {},
     "output_type": "execute_result"
    }
   ],
   "source": [
    "#Strain Y\n",
    "#I know they're exactly the same, but julia gets confused if I don't do it this way\n",
    "\n",
    "sty = Strain(15.0, #Vmax\n",
    "    1.0, #Km\n",
    "    0.5, #TEb\n",
    "    0.5, #TRb\n",
    "    1.0, #TsE\n",
    "    1.0, #TsR\n",
    "    2.0, #n\n",
    "    1.0, #θE\n",
    "    1.0, #θR\n",
    "    1.0, #θG\n",
    "    1.0, #TlE\n",
    "    1.0, #TlR\n",
    "    1.0, #ηE\n",
    "    1.0, #ηR\n",
    "    0.1, #δE\n",
    "    0.1, #δR\n",
    "    0.1, #δG\n",
    "    0.5, #JE\n",
    "    0.5, #JR\n",
    "    0.1, #σb\n",
    "    0.5, #σi\n",
    "    1.0, #kn\n",
    "    1, #e8, #c\n",
    "    0.5, #leak\n",
    "    0.5 #ψ\n",
    ")"
   ]
  },
  {
   "cell_type": "markdown",
   "metadata": {},
   "source": [
    "## Figure 1D & 1E"
   ]
  },
  {
   "cell_type": "code",
   "execution_count": 7,
   "metadata": {},
   "outputs": [
    {
     "data": {
      "text/plain": [
       "get_surface (generic function with 1 method)"
      ]
     },
     "execution_count": 7,
     "metadata": {},
     "output_type": "execute_result"
    }
   ],
   "source": [
    "function run_simulation(st)\n",
    "    df = DataFrame(lambda = Float64[], betas = Float64[])\n",
    "    s_s = []\n",
    "    aa_s = []\n",
    "    \n",
    "   for aa = collect(0.0:0.1:10.0)\n",
    "        for S = collect(0.0:0.1:10.0)\n",
    "\n",
    "            p = [st.Vm, S, aa, st.Km, st.TEb, st.TsE, st.n, st.θE, st.ηE, st.TRb, st.TsR, st.θR, st.ηR, st.ψ, st.TlE, st.JE, st.δE, st.TlR, st.JR, st.δR, \n",
    "                    st.σb, st.σi, st.θG, st.δG]\n",
    "            prob = ODEProblem(model_proteome,u0_prot,tspan_prot,p)\n",
    "            sol = solve(prob,reltol=1e-8,abstol=1e-8,saveat=0.1, isoutofdomain=(u0_prot,p,tspan) -> any(x -> x < 0, u0_prot))\n",
    "            push!(s_s, S)\n",
    "            push!(aa_s, aa)\n",
    "\n",
    "            #This step determines the final growth rate and proportion of E sector producing aminoacid\n",
    "            push!(df, [sol[5,end] * st.kn, sol[4,end] * st.leak])     \n",
    "        end\n",
    "    end\n",
    "    \n",
    "    values = DataFrame(S=s_s, aa = aa_s)\n",
    "    results = hcat(values, df)  \n",
    "    plot(results[:,:S], results[:,:aa], results[:,:lambda], st=:surface, camera=(-60,30), xaxis=\"Glucose (S)\", yaxis=\"Amino acid (aa)\", zaxis=\"Growth rate (λ)\")\n",
    "    fitting(results)\n",
    "    \n",
    "end\n",
    "\n",
    "function get_surface(st)\n",
    "    df = DataFrame(lambda = Float64[], betas = Float64[])\n",
    "    s_s = []\n",
    "    aa_s = []\n",
    "    \n",
    "    step=0.1\n",
    "    aa_max=10\n",
    "    S_max=10\n",
    "   for aa = collect(0.0:step:S_max)\n",
    "        for S = collect(0.0:step:aa_max)\n",
    "\n",
    "            p = [st.Vm, S, aa, st.Km, st.TEb, st.TsE, st.n, st.θE, st.ηE, st.TRb, st.TsR, st.θR, st.ηR, st.ψ, st.TlE, st.JE, st.δE, st.TlR, st.JR, st.δR, \n",
    "                    st.σb, st.σi, st.θG, st.δG]\n",
    "            prob = ODEProblem(model_proteome,u0_prot,tspan_prot,p)\n",
    "            sol = solve(prob,reltol=1e-8,abstol=1e-8,saveat=0.1, isoutofdomain=(u0_prot,p,tspan) -> any(x -> x < 0, u0_prot))\n",
    "            \n",
    "            push!(s_s, S)\n",
    "            push!(aa_s, aa)\n",
    "            \n",
    "            #This step determines the final growth rate and proportion of E sector producing aminoacid\n",
    "            push!(df, [sol[5,end] * st.kn, sol[4,end] * st.leak])     \n",
    "        end\n",
    "    end\n",
    "    \n",
    "    values = DataFrame(S=s_s, aa = aa_s)\n",
    "    results = hcat(values, df)  \n",
    "    sp_aa, sp_beta=get_surface(results)\n",
    "    \n",
    "    return sp_aa, sp_beta\n",
    "end\n"
   ]
  },
  {
   "cell_type": "code",
   "execution_count": 8,
   "metadata": {},
   "outputs": [
    {
     "data": {
      "text/plain": [
       "plot_proteome_run (generic function with 1 method)"
      ]
     },
     "execution_count": 8,
     "metadata": {},
     "output_type": "execute_result"
    }
   ],
   "source": [
    "function plot_proteome_run(st)\n",
    "    \n",
    "    plt1 = plot(xaxis=\"Time (t)\", yaxis=\"mRNA concentration\",  xtickfontsize=14, ytickfontsize=14, xguidefontsize=16, yguidefontsize=16, legend = :outerright, \n",
    "        legendfontsize=12)\n",
    "    plot!(size=(480,320))\n",
    "    \n",
    "    plt2 = plot(xaxis=\"Time (t)\", yaxis=\"Protein concentration\", title=\"\", xtickfontsize=14, ytickfontsize=14, xguidefontsize=16, yguidefontsize=16, legend = :outerright, \n",
    "        legendfontsize=12)\n",
    "    plot!(size=(480,320))\n",
    "    \n",
    "    plt3 = plot(xaxis=\"Time (t)\", yaxis=\"Proteome fraction (%)\", title=\"\", xtickfontsize=14, ytickfontsize=14, xguidefontsize=16, yguidefontsize=16, legendfontsize=12, legend = :outerright)\n",
    "    plot!(size=(480,320))\n",
    "    \n",
    "    ln_type = [:solid, :dot]\n",
    "    nutrient = [10, 0.5] \n",
    "    index2 = [1:2, 3:4]\n",
    "    index3 = [1:4, 5:8]\n",
    "        \n",
    "    labels_1 = [\"mE (rich)\" \"mR \" \"mE (poor)\" \"mR \"]\n",
    "    labels_2 = [\"ϵ (rich)\" \"α \" \"R \" \"γ \" \"ϵ (poor)\" \"α \" \"R \" \"γ \"]\n",
    "    labels_3 = [\"E (rich)\" \"R \" \"E (poor)\" \"R \"]\n",
    "    labels_4 = [\"ϵ\" \"α\" \"R\" \"G\"]\n",
    "    \n",
    "    col_p = [\"#59A96A\" \"#6A1148\" \"#006D77\" \"#DB8B00\"]\n",
    "    v_p = [3;4;5;6]\n",
    "\n",
    "    #Plot for rich and low substrate\n",
    "    for i = 1:2\n",
    "        aa = nutrient[i] #\n",
    "        S= nutrient[i]\n",
    "        #aa = nutrient[i]\n",
    "\n",
    "        p = [st.Vm, S, aa, st.Km, st.TEb, st.TsE, st.n, st.θE, st.ηE, st.TRb, st.TsR, st.θR, st.ηR, st.ψ, st.TlE, st.JE, st.δE, st.TlR, st.JR, st.δR, st.σb, st.σi, \n",
    "            st.θG, st.δG]\n",
    "        prob = ODEProblem(model_proteome,u0_prot,tspan_prot,p)\n",
    "        sol = solve(prob,reltol=1e-8,abstol=1e-8,saveat=0.1, isoutofdomain=(u0_pop,p,tspan) -> any(x -> x < 0, u0_prot))\n",
    "\n",
    "        E = sol[3,:] .+ sol[4,:]\n",
    "        R = sol[5,:]\n",
    "        Z = E .+ R\n",
    "        tot = E .+ R .+ Z\n",
    "        prot = [E.* 100 ./ tot, R .* 100 ./ tot]\n",
    "        labels = [\"E\", \"R\"]\n",
    "\n",
    "        plot!(plt1, sol, vars=1:2, color=[\"#59A96A\" \"#58BAEE\"], line = ln_type[i], lab=permutedims(labels_1[index2[i]]), lw = 3,xaxis=\"Time (t)\", yaxis=\"mRNA concentration\", legend = :outerright, grid=false)\n",
    "        plot!(plt2, sol, vars=v_p, color=col_p, line = ln_type[i], lab=permutedims(labels_2[index3[i]]), lw = 3,xaxis=\"Time (t)\", yaxis=\"Protein concentration\", legend = :outerright, grid=false)\n",
    "        plot!(plt3, sol.t, prot, color=[\"#59A96A\" \"#006D77\"], line = ln_type[i], lab=permutedims(labels_3[index2[i]]), lw = 3,xaxis=\"Time (t)\", yaxis=\"Proteome fraction (%)\", legend = :outerright, grid=false, ylim=(10,40))\n",
    "\n",
    "    end\n",
    "    \n",
    "    \n",
    "    display(plt1) \n",
    "    display(plt2) \n",
    "    display(plt3)\n",
    "end"
   ]
  },
  {
   "cell_type": "code",
   "execution_count": 9,
   "metadata": {},
   "outputs": [
    {
     "data": {
      "text/plain": [
       "fitting (generic function with 1 method)"
      ]
     },
     "execution_count": 9,
     "metadata": {},
     "output_type": "execute_result"
    }
   ],
   "source": [
    "function fitting(results)\n",
    "    spl_Vm = Spline2D(results[:, :aa], results[:, :S], results[:, :lambda], s=1000000) #Fit Vmax\n",
    "    spl_beta = Spline2D(results[:, :aa], results[:, :S], results[:, :betas], s=1000000) #Fit beta\n",
    "    return spl_Vm, spl_beta\n",
    "end"
   ]
  },
  {
   "cell_type": "code",
   "execution_count": 10,
   "metadata": {},
   "outputs": [
    {
     "data": {
      "text/plain": [
       "get_params (generic function with 1 method)"
      ]
     },
     "execution_count": 10,
     "metadata": {},
     "output_type": "execute_result"
    }
   ],
   "source": [
    "function get_params(spl_Vm, spl_beta, aa, S)\n",
    "    \n",
    "    Vmax_fit = spl_Vm(S, aa) #Interpolates Vmax\n",
    "    Beta_fit = spl_beta(S, aa) #Interpolates Beta\n",
    "    \n",
    "    return [Vmax_fit; Beta_fit]\n",
    "end"
   ]
  },
  {
   "cell_type": "code",
   "execution_count": 11,
   "metadata": {
    "scrolled": false
   },
   "outputs": [],
   "source": [
    "#plot_proteome_run(stx)"
   ]
  },
  {
   "cell_type": "markdown",
   "metadata": {},
   "source": [
    "# Population Dynamics Model"
   ]
  },
  {
   "cell_type": "markdown",
   "metadata": {},
   "source": [
    "## Parameters"
   ]
  },
  {
   "cell_type": "code",
   "execution_count": 12,
   "metadata": {},
   "outputs": [
    {
     "data": {
      "text/plain": [
       "(0.0, 0.1)"
      ]
     },
     "execution_count": 12,
     "metadata": {},
     "output_type": "execute_result"
    }
   ],
   "source": [
    "S0 = 0.1 #Initial resource concentration\n",
    "X0 = 0.1 #Initial amino acid X concentration\n",
    "Y0 = 0.1 #Initial amino acid Y concentration\n",
    "D = 0.0 #Dilution rate\n",
    "\n",
    "tspan = (0.0,0.1) #Time interval"
   ]
  },
  {
   "cell_type": "code",
   "execution_count": 13,
   "metadata": {},
   "outputs": [
    {
     "data": {
      "text/plain": [
       "G (generic function with 1 method)"
      ]
     },
     "execution_count": 13,
     "metadata": {},
     "output_type": "execute_result"
    }
   ],
   "source": [
    "\n",
    "function model_population(du,u,p,t)\n",
    "    #X0,Y0=0.0 #tmp\n",
    "    S0 = u[1]\n",
    "    S, X, Y, Bx, By = u\n",
    "    Vmx, Kmx, Vmy, Kmy, βx, βy, cx, cy = p\n",
    "    \n",
    "    du[1] = dS = - (Us(S,Vmx,Kmx) * Bx) - (Us(S,Vmy,Kmy) * By)  - D*(S-S0) #Substrate\n",
    "    du[2] = dX = .0001*βx * G(S,cx,Vmx,Kmx,Y) * By - (Uaa(X) * Bx) - D*X #X\n",
    "    du[3] = dY = .0001*βy * G(S,cy,Vmy,Kmy,X) * Bx - (Uaa(Y) * By) - D*Y #Y\n",
    "    du[4] = dBx = G(S,cx,Vmx,Kmx,X) * Bx - D*Bx #Bx\n",
    "    du[5] = dBy = G(S,cy,Vmy,Kmy,Y) * By - D*By #Bx\n",
    "\n",
    "end\n",
    "\n",
    "function Us(S, Vmax, Km)\n",
    "    Us = (Vmax * S) / (Km + S)\n",
    "end\n",
    "\n",
    "function Uaa(aa) #\n",
    "    Uaa = aa/(aa+1)\n",
    "end\n",
    "\n",
    "function G(S,c, Vmax, Km, aa)  #Resource consumption\n",
    "    G = c * Us(S, Vmax, Km) * Uaa(aa)\n",
    "end\n"
   ]
  },
  {
   "cell_type": "code",
   "execution_count": 14,
   "metadata": {},
   "outputs": [
    {
     "data": {
      "text/plain": [
       "simulate (generic function with 1 method)"
      ]
     },
     "execution_count": 14,
     "metadata": {},
     "output_type": "execute_result"
    }
   ],
   "source": [
    "#Run the populations model and fit the Vmax and Beta parameters\n",
    "function simulate(T, u0, spl_Vmx, spl_betax, spl_Vmy, spl_betay, stx, sty)    \n",
    "      \n",
    "    ncycles=T\n",
    "    \n",
    "    u0_pop = [u0[1], u0[2], u0[3], u0[4], u0[5]]\n",
    "    \n",
    "    results = DataFrame(S = Float64[], aa_x = Float64[], aa_y = Float64[], Bx = Float64[], By = Float64[], Vmx = Float64[], Vmy = Float64[], Betax = Float64[], \n",
    "        Betay = Float64[])\n",
    "    \n",
    "    fit_x0 = get_params(spl_Vmx, spl_betax, u0_pop[2], u0_pop[1])\n",
    "    fit_y0 = get_params(spl_Vmy, spl_betay, u0_pop[3], u0_pop[1])\n",
    "\n",
    "    push!(results, [u0_pop[1]; u0_pop[2]; u0_pop[3]; u0_pop[4]; u0_pop[5]; fit_x0[1]; fit_y0[1]; fit_x0[2]; fit_y0[2]])\n",
    "    \n",
    "    \n",
    "    for i in 0:ncycles-1\n",
    "        tspan_cycle =[i*ncycles, (i+1)*ncycles]  #Time interval\n",
    "        \n",
    "        fit_x = get_params(spl_Vmx, spl_betax, u0_pop[2], u0_pop[1])\n",
    "        fit_y = get_params(spl_Vmy, spl_betay, u0_pop[3], u0_pop[1])\n",
    "        \n",
    "        #p = [Vmx, Kmx, Vmy, Kmy, cx, cy, Bx, By]\n",
    "        p = [fit_x[1], 1.0, fit_y[1], 1.0, fit_x[2], fit_y[2], stx.c, sty.c]\n",
    "        \n",
    "        pop = ODEProblem(model_population, u0_pop, tspan_cycle, p)\n",
    "        sol_pop = solve(pop, Rosenbrock23(autodiff=false), maxiters = 1e7, reltol=1e-10, abstol=1e-10, isoutofdomain=(u0_pop,p,tspan) -> any(x -> x < 0, u0_pop)) #, saveat=0.1\n",
    "        \n",
    "        push!(results, [sol_pop[:,end]; fit_x[1]; fit_y[1]; fit_x[2]; fit_y[2]])\n",
    "        \n",
    "        #nsteps=10\n",
    "        #ts = collect(tspan[1]:(tspan[2]-tspan[1])/nsteps:tspan[2])\n",
    "        #for i in 2:nsteps\n",
    "        #    push!(results, [sol_pop(ts[i]); fit_x[1]; fit_y[1]; fit_x[2]; fit_y[2]])\n",
    "        #end\n",
    "        \n",
    "        #u0_pop = [sol_pop[1,end]; sol_pop[2,end]; sol_pop[3,end]; sol_pop[4,end]; sol_pop[5,end]]\n",
    "        u0_pop = [sol_pop[1,end] + D * (S0 - sol_pop[1,end]); sol_pop[2,end]; sol_pop[3,end]; sol_pop[4,end] - (D * sol_pop[4,end]); sol_pop[5,end] - (D * sol_pop[5,end])]\n",
    "    end\n",
    "    results   \n",
    "end"
   ]
  },
  {
   "cell_type": "code",
   "execution_count": 15,
   "metadata": {},
   "outputs": [
    {
     "data": {
      "text/plain": [
       "plotRun (generic function with 1 method)"
      ]
     },
     "execution_count": 15,
     "metadata": {},
     "output_type": "execute_result"
    }
   ],
   "source": [
    "function plotRun(res)#, parx, pary, title)\n",
    "     \n",
    "    plt_title = plot(title = \"Run\", grid = false, showaxis = false, bottom_margin = -100Plots.px)\n",
    "\n",
    "    p1 = plot(res[:,:S], lab=\"S\", xaxis=\"\", yaxis=\"Concentration (μg/mL)\", linecolor = \"#883677\", lw = 2)#, title = \"A\", bottom_margin = 10Plots.px, \n",
    "        #titleloc = :left)\n",
    "    plot!(res[:,:aa_x], lab=\"X\", linecolor = \"#084C61\", lw = 2)\n",
    "    plot!(res[:,:aa_y], lab=\"Y\", linecolor = \"#DB3A34\", lw = 2)\n",
    "    \n",
    "    Btot=maximum(res[:,:Bx]+res[:,:By])\n",
    "    p2 = plot(res[:,:Bx], lab=\"Bx\", xaxis=\"\", yaxis=\"Density (cells/mL)\", linecolor = \"#177E89\", lw = 2, ylims = (0,1.1*Btot))#, ylims = (0,1.1*Btot))#, title = \"B\", bottom_margin = 10Plots.px, \n",
    "        #titleloc = :left)\n",
    "    plot!(res[:,:By], lab=\"By\", linecolor = \"#FFC857\", lw = 2)\n",
    "    \n",
    "    Vmax=maximum([maximum(res[:,:Vmx]),maximum(res[:,:Vmy])])\n",
    "    p3 = plot(res[:,:Vmx], lab=\"X\", xaxis=\"Time (t)\", yaxis=\"λ\", ylims = (0,1.1*Vmax), linecolor = \"#491D40\", lw = 2)#, title = \"C\",  bottom_margin = 10Plots.px, \n",
    "        #titleloc = :left)\n",
    "    plot!(res[:,:Vmy], lab=\"Y\", linecolor = \"#C56DB3\", lw = 2)\n",
    "    #plot!(size=(300,200))\n",
    "    \n",
    "    Bmax=maximum([maximum(res[:,:Betax]),maximum(res[:,:Betay])])\n",
    "    p4 = plot(res[:,:Betax], lab=\"X\", xaxis=\"Time (t)\", yaxis=\"β\", ylims = (0,1.1*Bmax), linecolor = \"#2ECADC\", lw = 2)#, title = \"D\", bottom_margin = 10Plots.px, \n",
    "        #titleloc = :left)\n",
    "    plot!(res[:,:Betay], lab=\"Y\", linecolor = \"#FFB41F\", lw = 2)\n",
    "    #plot!(size=(300,200))\n",
    "    \n",
    "    \n",
    "    #p=plot(p1, p2, p3, p4, layout = @layout([B C]; [D E]))\n",
    "    p=plot(plt_title, p1, p2, p3, p4, layout = @layout([A{0.3h}; [B C]; [D E]]))\n",
    "\n",
    "    return p\n",
    "    \n",
    "end"
   ]
  },
  {
   "cell_type": "markdown",
   "metadata": {},
   "source": [
    "## Run simulations\n",
    "### Plot time lapse"
   ]
  },
  {
   "cell_type": "code",
   "execution_count": null,
   "metadata": {
    "scrolled": false
   },
   "outputs": [],
   "source": [
    "u0_pop = [1; X0; Y0; 1e6; 1e6]\n",
    "\n",
    "spl_aax, spl_betax = run_simulation(stx)\n",
    "spl_aay, spl_betay = run_simulation(sty)\n",
    "\n",
    "T=3\n",
    "res = simulate(T, u0_pop, spl_aax, spl_betax, spl_aay, spl_betay, stx, sty)\n",
    "\n",
    "print(res)\n",
    "\n",
    "#plt=plotRun(res)#, stx.θG, sty.θG, \"θG\")\n",
    "    #plot!(size=(400,300))"
   ]
  },
  {
   "cell_type": "code",
   "execution_count": null,
   "metadata": {},
   "outputs": [],
   "source": [
    "plt=plotRun(res)#, stx.θG, sty.θG, \"θG\")\n",
    "#display(plt)\n",
    "#savefig(\"../figures/src/Figure2B.png\")"
   ]
  },
  {
   "cell_type": "code",
   "execution_count": null,
   "metadata": {},
   "outputs": [],
   "source": []
  },
  {
   "cell_type": "code",
   "execution_count": null,
   "metadata": {},
   "outputs": [],
   "source": []
  },
  {
   "cell_type": "code",
   "execution_count": null,
   "metadata": {},
   "outputs": [],
   "source": []
  }
 ],
 "metadata": {
  "@webio": {
   "lastCommId": null,
   "lastKernelId": null
  },
  "kernelspec": {
   "display_name": "Julia 1.5.3",
   "language": "julia",
   "name": "julia-1.5"
  },
  "language_info": {
   "file_extension": ".jl",
   "mimetype": "application/julia",
   "name": "julia",
   "version": "1.5.3"
  }
 },
 "nbformat": 4,
 "nbformat_minor": 2
}
