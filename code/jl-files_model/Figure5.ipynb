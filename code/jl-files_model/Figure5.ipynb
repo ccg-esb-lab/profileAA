{
 "cells": [
  {
   "cell_type": "code",
   "execution_count": 3,
   "metadata": {
    "id": "cIU3hdS2gD6B",
    "outputId": "1fe56ea8-786e-45bd-985b-7fe95513d412"
   },
   "outputs": [
    {
     "data": {
      "text/plain": [
       "Plots.PyPlotBackend()"
      ]
     },
     "execution_count": 3,
     "metadata": {},
     "output_type": "execute_result"
    }
   ],
   "source": [
    "using CSV\n",
    "using DataFrames\n",
    "using Plots\n",
    "using ColorSchemes \n",
    "import Colors\n",
    "theme(:wong)\n",
    "pyplot()"
   ]
  },
  {
   "cell_type": "code",
   "execution_count": 4,
   "metadata": {
    "id": "oXNBHjF5gD6D",
    "jupyter": {
     "outputs_hidden": true
    },
    "outputId": "27a967b4-bc77-403e-c2a4-44c8b4bf8763",
    "tags": []
   },
   "outputs": [
    {
     "data": {
      "text/html": [
       "<div class=\"data-frame\"><p>10,201 rows × 3 columns</p><table class=\"data-frame\"><thead><tr><th></th><th>X0</th><th>Y0</th><th>Rel_dens</th></tr><tr><th></th><th title=\"Float64\">Float64</th><th title=\"Float64\">Float64</th><th title=\"Float64\">Float64</th></tr></thead><tbody><tr><th>1</th><td>0.0</td><td>0.0</td><td>-1.0e6</td></tr><tr><th>2</th><td>0.0</td><td>0.1</td><td>-3.559e7</td></tr><tr><th>3</th><td>0.0</td><td>0.2</td><td>3.58998e6</td></tr><tr><th>4</th><td>0.0</td><td>0.3</td><td>1.32514e7</td></tr><tr><th>5</th><td>0.0</td><td>0.4</td><td>3.59649e7</td></tr><tr><th>6</th><td>0.0</td><td>0.5</td><td>9.25196e7</td></tr><tr><th>7</th><td>0.0</td><td>0.6</td><td>4.19738e9</td></tr><tr><th>8</th><td>0.0</td><td>0.7</td><td>3.88747e9</td></tr><tr><th>9</th><td>0.0</td><td>0.8</td><td>3.50708e9</td></tr><tr><th>10</th><td>0.0</td><td>0.9</td><td>3.10823e9</td></tr><tr><th>11</th><td>0.0</td><td>1.0</td><td>2.71161e9</td></tr><tr><th>12</th><td>0.0</td><td>1.1</td><td>2.31676e9</td></tr><tr><th>13</th><td>0.0</td><td>1.2</td><td>1.90479e9</td></tr><tr><th>14</th><td>0.0</td><td>1.3</td><td>1.45159e9</td></tr><tr><th>15</th><td>0.0</td><td>1.4</td><td>9.39404e8</td></tr><tr><th>16</th><td>0.0</td><td>1.5</td><td>5.81389e8</td></tr><tr><th>17</th><td>0.0</td><td>1.6</td><td>4.03979e8</td></tr><tr><th>18</th><td>0.0</td><td>1.7</td><td>2.93057e8</td></tr><tr><th>19</th><td>0.0</td><td>1.8</td><td>2.18808e8</td></tr><tr><th>20</th><td>0.0</td><td>1.9</td><td>1.6705e8</td></tr><tr><th>21</th><td>0.0</td><td>2.0</td><td>1.29863e8</td></tr><tr><th>22</th><td>0.0</td><td>2.1</td><td>1.0256e8</td></tr><tr><th>23</th><td>0.0</td><td>2.2</td><td>8.20862e7</td></tr><tr><th>24</th><td>0.0</td><td>2.3</td><td>6.64481e7</td></tr><tr><th>25</th><td>0.0</td><td>2.4</td><td>5.43666e7</td></tr><tr><th>26</th><td>0.0</td><td>2.5</td><td>4.4894e7</td></tr><tr><th>27</th><td>0.0</td><td>2.6</td><td>3.73995e7</td></tr><tr><th>28</th><td>0.0</td><td>2.7</td><td>3.13811e7</td></tr><tr><th>29</th><td>0.0</td><td>2.8</td><td>2.64883e7</td></tr><tr><th>30</th><td>0.0</td><td>2.9</td><td>2.24999e7</td></tr><tr><th>&vellip;</th><td>&vellip;</td><td>&vellip;</td><td>&vellip;</td></tr></tbody></table></div>"
      ],
      "text/latex": [
       "\\begin{tabular}{r|ccc}\n",
       "\t& X0 & Y0 & Rel\\_dens\\\\\n",
       "\t\\hline\n",
       "\t& Float64 & Float64 & Float64\\\\\n",
       "\t\\hline\n",
       "\t1 & 0.0 & 0.0 & -1.0e6 \\\\\n",
       "\t2 & 0.0 & 0.1 & -3.559e7 \\\\\n",
       "\t3 & 0.0 & 0.2 & 3.58998e6 \\\\\n",
       "\t4 & 0.0 & 0.3 & 1.32514e7 \\\\\n",
       "\t5 & 0.0 & 0.4 & 3.59649e7 \\\\\n",
       "\t6 & 0.0 & 0.5 & 9.25196e7 \\\\\n",
       "\t7 & 0.0 & 0.6 & 4.19738e9 \\\\\n",
       "\t8 & 0.0 & 0.7 & 3.88747e9 \\\\\n",
       "\t9 & 0.0 & 0.8 & 3.50708e9 \\\\\n",
       "\t10 & 0.0 & 0.9 & 3.10823e9 \\\\\n",
       "\t11 & 0.0 & 1.0 & 2.71161e9 \\\\\n",
       "\t12 & 0.0 & 1.1 & 2.31676e9 \\\\\n",
       "\t13 & 0.0 & 1.2 & 1.90479e9 \\\\\n",
       "\t14 & 0.0 & 1.3 & 1.45159e9 \\\\\n",
       "\t15 & 0.0 & 1.4 & 9.39404e8 \\\\\n",
       "\t16 & 0.0 & 1.5 & 5.81389e8 \\\\\n",
       "\t17 & 0.0 & 1.6 & 4.03979e8 \\\\\n",
       "\t18 & 0.0 & 1.7 & 2.93057e8 \\\\\n",
       "\t19 & 0.0 & 1.8 & 2.18808e8 \\\\\n",
       "\t20 & 0.0 & 1.9 & 1.6705e8 \\\\\n",
       "\t21 & 0.0 & 2.0 & 1.29863e8 \\\\\n",
       "\t22 & 0.0 & 2.1 & 1.0256e8 \\\\\n",
       "\t23 & 0.0 & 2.2 & 8.20862e7 \\\\\n",
       "\t24 & 0.0 & 2.3 & 6.64481e7 \\\\\n",
       "\t25 & 0.0 & 2.4 & 5.43666e7 \\\\\n",
       "\t26 & 0.0 & 2.5 & 4.4894e7 \\\\\n",
       "\t27 & 0.0 & 2.6 & 3.73995e7 \\\\\n",
       "\t28 & 0.0 & 2.7 & 3.13811e7 \\\\\n",
       "\t29 & 0.0 & 2.8 & 2.64883e7 \\\\\n",
       "\t30 & 0.0 & 2.9 & 2.24999e7 \\\\\n",
       "\t$\\dots$ & $\\dots$ & $\\dots$ & $\\dots$ \\\\\n",
       "\\end{tabular}\n"
      ],
      "text/plain": [
       "\u001b[1m10201×3 DataFrame\u001b[0m\n",
       "\u001b[1m   Row \u001b[0m│\u001b[1m X0      \u001b[0m\u001b[1m Y0      \u001b[0m\u001b[1m Rel_dens    \u001b[0m\n",
       "\u001b[1m       \u001b[0m│\u001b[90m Float64 \u001b[0m\u001b[90m Float64 \u001b[0m\u001b[90m Float64     \u001b[0m\n",
       "───────┼───────────────────────────────\n",
       "     1 │     0.0      0.0  -1.0e6\n",
       "     2 │     0.0      0.1  -3.559e7\n",
       "     3 │     0.0      0.2   3.58998e6\n",
       "     4 │     0.0      0.3   1.32514e7\n",
       "     5 │     0.0      0.4   3.59649e7\n",
       "     6 │     0.0      0.5   9.25196e7\n",
       "     7 │     0.0      0.6   4.19738e9\n",
       "     8 │     0.0      0.7   3.88747e9\n",
       "     9 │     0.0      0.8   3.50708e9\n",
       "    10 │     0.0      0.9   3.10823e9\n",
       "    11 │     0.0      1.0   2.71161e9\n",
       "   ⋮   │    ⋮        ⋮          ⋮\n",
       " 10192 │    10.0      9.1  -1.21411e10\n",
       " 10193 │    10.0      9.2  -1.21484e10\n",
       " 10194 │    10.0      9.3  -1.21559e10\n",
       " 10195 │    10.0      9.4  -1.21634e10\n",
       " 10196 │    10.0      9.5  -1.2171e10\n",
       " 10197 │    10.0      9.6  -1.21787e10\n",
       " 10198 │    10.0      9.7  -1.21867e10\n",
       " 10199 │    10.0      9.8  -1.21951e10\n",
       " 10200 │    10.0      9.9  -1.22034e10\n",
       " 10201 │    10.0     10.0  -1.2212e10\n",
       "\u001b[36m                     10180 rows omitted\u001b[0m"
      ]
     },
     "execution_count": 4,
     "metadata": {},
     "output_type": "execute_result"
    }
   ],
   "source": [
    "checker_amino = DataFrame(CSV.File(\"../../data/processed/checkerboards/checker_p1.tsv\"))"
   ]
  },
  {
   "cell_type": "code",
   "execution_count": 5,
   "metadata": {
    "id": "JSvOoATngD6E",
    "jupyter": {
     "outputs_hidden": true
    },
    "outputId": "4f51f96d-6114-4fe8-8930-463accece1c8",
    "tags": []
   },
   "outputs": [
    {
     "data": {
      "text/html": [
       "<div class=\"data-frame\"><p>10,201 rows × 3 columns</p><table class=\"data-frame\"><thead><tr><th></th><th>X0</th><th>Y0</th><th>Rel_dens</th></tr><tr><th></th><th title=\"Float64\">Float64</th><th title=\"Float64\">Float64</th><th title=\"Float64\">Float64</th></tr></thead><tbody><tr><th>1</th><td>0.0</td><td>0.0</td><td>-1.0e6</td></tr><tr><th>2</th><td>0.0</td><td>0.1</td><td>-3.55679e7</td></tr><tr><th>3</th><td>0.0</td><td>0.2</td><td>-1.38114e8</td></tr><tr><th>4</th><td>0.0</td><td>0.3</td><td>-3.06089e8</td></tr><tr><th>5</th><td>0.0</td><td>0.4</td><td>-5.41762e8</td></tr><tr><th>6</th><td>0.0</td><td>0.5</td><td>-8.39769e8</td></tr><tr><th>7</th><td>0.0</td><td>0.6</td><td>-1.18832e9</td></tr><tr><th>8</th><td>0.0</td><td>0.7</td><td>-1.62146e9</td></tr><tr><th>9</th><td>0.0</td><td>0.8</td><td>-2.09874e9</td></tr><tr><th>10</th><td>0.0</td><td>0.9</td><td>-2.65596e9</td></tr><tr><th>11</th><td>0.0</td><td>1.0</td><td>-3.26239e9</td></tr><tr><th>12</th><td>0.0</td><td>1.1</td><td>-3.91521e9</td></tr><tr><th>13</th><td>0.0</td><td>1.2</td><td>-4.65394e9</td></tr><tr><th>14</th><td>0.0</td><td>1.3</td><td>-5.43171e9</td></tr><tr><th>15</th><td>0.0</td><td>1.4</td><td>-6.27677e9</td></tr><tr><th>16</th><td>0.0</td><td>1.5</td><td>-6.95113e9</td></tr><tr><th>17</th><td>0.0</td><td>1.6</td><td>-7.42365e9</td></tr><tr><th>18</th><td>0.0</td><td>1.7</td><td>-7.80805e9</td></tr><tr><th>19</th><td>0.0</td><td>1.8</td><td>-8.13456e9</td></tr><tr><th>20</th><td>0.0</td><td>1.9</td><td>-8.41874e9</td></tr><tr><th>21</th><td>0.0</td><td>2.0</td><td>-8.67013e9</td></tr><tr><th>22</th><td>0.0</td><td>2.1</td><td>-8.89519e9</td></tr><tr><th>23</th><td>0.0</td><td>2.2</td><td>-9.09856e9</td></tr><tr><th>24</th><td>0.0</td><td>2.3</td><td>-9.28371e9</td></tr><tr><th>25</th><td>0.0</td><td>2.4</td><td>-9.45331e9</td></tr><tr><th>26</th><td>0.0</td><td>2.5</td><td>-9.6095e9</td></tr><tr><th>27</th><td>0.0</td><td>2.6</td><td>-9.75398e9</td></tr><tr><th>28</th><td>0.0</td><td>2.7</td><td>-9.88816e9</td></tr><tr><th>29</th><td>0.0</td><td>2.8</td><td>-1.00132e10</td></tr><tr><th>30</th><td>0.0</td><td>2.9</td><td>-1.01301e10</td></tr><tr><th>&vellip;</th><td>&vellip;</td><td>&vellip;</td><td>&vellip;</td></tr></tbody></table></div>"
      ],
      "text/latex": [
       "\\begin{tabular}{r|ccc}\n",
       "\t& X0 & Y0 & Rel\\_dens\\\\\n",
       "\t\\hline\n",
       "\t& Float64 & Float64 & Float64\\\\\n",
       "\t\\hline\n",
       "\t1 & 0.0 & 0.0 & -1.0e6 \\\\\n",
       "\t2 & 0.0 & 0.1 & -3.55679e7 \\\\\n",
       "\t3 & 0.0 & 0.2 & -1.38114e8 \\\\\n",
       "\t4 & 0.0 & 0.3 & -3.06089e8 \\\\\n",
       "\t5 & 0.0 & 0.4 & -5.41762e8 \\\\\n",
       "\t6 & 0.0 & 0.5 & -8.39769e8 \\\\\n",
       "\t7 & 0.0 & 0.6 & -1.18832e9 \\\\\n",
       "\t8 & 0.0 & 0.7 & -1.62146e9 \\\\\n",
       "\t9 & 0.0 & 0.8 & -2.09874e9 \\\\\n",
       "\t10 & 0.0 & 0.9 & -2.65596e9 \\\\\n",
       "\t11 & 0.0 & 1.0 & -3.26239e9 \\\\\n",
       "\t12 & 0.0 & 1.1 & -3.91521e9 \\\\\n",
       "\t13 & 0.0 & 1.2 & -4.65394e9 \\\\\n",
       "\t14 & 0.0 & 1.3 & -5.43171e9 \\\\\n",
       "\t15 & 0.0 & 1.4 & -6.27677e9 \\\\\n",
       "\t16 & 0.0 & 1.5 & -6.95113e9 \\\\\n",
       "\t17 & 0.0 & 1.6 & -7.42365e9 \\\\\n",
       "\t18 & 0.0 & 1.7 & -7.80805e9 \\\\\n",
       "\t19 & 0.0 & 1.8 & -8.13456e9 \\\\\n",
       "\t20 & 0.0 & 1.9 & -8.41874e9 \\\\\n",
       "\t21 & 0.0 & 2.0 & -8.67013e9 \\\\\n",
       "\t22 & 0.0 & 2.1 & -8.89519e9 \\\\\n",
       "\t23 & 0.0 & 2.2 & -9.09856e9 \\\\\n",
       "\t24 & 0.0 & 2.3 & -9.28371e9 \\\\\n",
       "\t25 & 0.0 & 2.4 & -9.45331e9 \\\\\n",
       "\t26 & 0.0 & 2.5 & -9.6095e9 \\\\\n",
       "\t27 & 0.0 & 2.6 & -9.75398e9 \\\\\n",
       "\t28 & 0.0 & 2.7 & -9.88816e9 \\\\\n",
       "\t29 & 0.0 & 2.8 & -1.00132e10 \\\\\n",
       "\t30 & 0.0 & 2.9 & -1.01301e10 \\\\\n",
       "\t$\\dots$ & $\\dots$ & $\\dots$ & $\\dots$ \\\\\n",
       "\\end{tabular}\n"
      ],
      "text/plain": [
       "\u001b[1m10201×3 DataFrame\u001b[0m\n",
       "\u001b[1m   Row \u001b[0m│\u001b[1m X0      \u001b[0m\u001b[1m Y0      \u001b[0m\u001b[1m Rel_dens    \u001b[0m\n",
       "\u001b[1m       \u001b[0m│\u001b[90m Float64 \u001b[0m\u001b[90m Float64 \u001b[0m\u001b[90m Float64     \u001b[0m\n",
       "───────┼───────────────────────────────\n",
       "     1 │     0.0      0.0  -1.0e6\n",
       "     2 │     0.0      0.1  -3.55679e7\n",
       "     3 │     0.0      0.2  -1.38114e8\n",
       "     4 │     0.0      0.3  -3.06089e8\n",
       "     5 │     0.0      0.4  -5.41762e8\n",
       "     6 │     0.0      0.5  -8.39769e8\n",
       "     7 │     0.0      0.6  -1.18832e9\n",
       "     8 │     0.0      0.7  -1.62146e9\n",
       "     9 │     0.0      0.8  -2.09874e9\n",
       "    10 │     0.0      0.9  -2.65596e9\n",
       "    11 │     0.0      1.0  -3.26239e9\n",
       "   ⋮   │    ⋮        ⋮          ⋮\n",
       " 10192 │    10.0      9.1  -1.24954e10\n",
       " 10193 │    10.0      9.2  -1.25045e10\n",
       " 10194 │    10.0      9.3  -1.25132e10\n",
       " 10195 │    10.0      9.4  -1.25216e10\n",
       " 10196 │    10.0      9.5  -1.25296e10\n",
       " 10197 │    10.0      9.6  -1.25373e10\n",
       " 10198 │    10.0      9.7  -1.25448e10\n",
       " 10199 │    10.0      9.8  -1.25519e10\n",
       " 10200 │    10.0      9.9  -1.25587e10\n",
       " 10201 │    10.0     10.0  -1.25657e10\n",
       "\u001b[36m                     10180 rows omitted\u001b[0m"
      ]
     },
     "execution_count": 5,
     "metadata": {},
     "output_type": "execute_result"
    }
   ],
   "source": [
    "checker_G = DataFrame(CSV.File(\"../../data/processed/checkerboards/checker_noG.tsv\"))"
   ]
  },
  {
   "cell_type": "code",
   "execution_count": 6,
   "metadata": {
    "id": "1XkbSnQUgD6E",
    "jupyter": {
     "outputs_hidden": true
    },
    "outputId": "a47ee8f8-431e-41e6-d660-04229957c74e",
    "tags": []
   },
   "outputs": [
    {
     "data": {
      "text/html": [
       "<div class=\"data-frame\"><p>4,356 rows × 5 columns</p><table class=\"data-frame\"><thead><tr><th></th><th>cost_x</th><th>cost_y</th><th>X0</th><th>Y0</th><th>Rel_dens</th></tr><tr><th></th><th title=\"Float64\">Float64</th><th title=\"Float64\">Float64</th><th title=\"Float64\">Float64</th><th title=\"Float64\">Float64</th><th title=\"Float64\">Float64</th></tr></thead><tbody><tr><th>1</th><td>0.001</td><td>0.001</td><td>0.0</td><td>0.0</td><td>-1.0e6</td></tr><tr><th>2</th><td>0.001</td><td>0.001</td><td>0.0</td><td>0.1</td><td>-3.559e7</td></tr><tr><th>3</th><td>0.001</td><td>0.001</td><td>0.0</td><td>0.2</td><td>-1.38268e8</td></tr><tr><th>4</th><td>0.001</td><td>0.001</td><td>0.0</td><td>0.3</td><td>-3.07516e8</td></tr><tr><th>5</th><td>0.001</td><td>0.001</td><td>0.0</td><td>0.4</td><td>-5.4195e8</td></tr><tr><th>6</th><td>0.001</td><td>0.001</td><td>0.0</td><td>0.5</td><td>-8.40454e8</td></tr><tr><th>7</th><td>0.001</td><td>0.001</td><td>0.0</td><td>0.6</td><td>-1.20197e9</td></tr><tr><th>8</th><td>0.001</td><td>0.001</td><td>0.0</td><td>0.7</td><td>-1.62536e9</td></tr><tr><th>9</th><td>0.001</td><td>0.001</td><td>0.0</td><td>0.8</td><td>-2.11062e9</td></tr><tr><th>10</th><td>0.001</td><td>0.001</td><td>0.0</td><td>0.9</td><td>-2.65609e9</td></tr><tr><th>11</th><td>0.001</td><td>0.001</td><td>0.0</td><td>1.0</td><td>-3.26266e9</td></tr><tr><th>12</th><td>0.001</td><td>0.001</td><td>0.1</td><td>0.0</td><td>-3.559e7</td></tr><tr><th>13</th><td>0.001</td><td>0.001</td><td>0.1</td><td>0.1</td><td>5.33388e6</td></tr><tr><th>14</th><td>0.001</td><td>0.001</td><td>0.1</td><td>0.2</td><td>-1.70587e7</td></tr><tr><th>15</th><td>0.001</td><td>0.001</td><td>0.1</td><td>0.3</td><td>-2.57067e7</td></tr><tr><th>16</th><td>0.001</td><td>0.001</td><td>0.1</td><td>0.4</td><td>-2.8551e7</td></tr><tr><th>17</th><td>0.001</td><td>0.001</td><td>0.1</td><td>0.5</td><td>-2.98437e7</td></tr><tr><th>18</th><td>0.001</td><td>0.001</td><td>0.1</td><td>0.6</td><td>-3.04949e7</td></tr><tr><th>19</th><td>0.001</td><td>0.001</td><td>0.1</td><td>0.7</td><td>-3.05789e7</td></tr><tr><th>20</th><td>0.001</td><td>0.001</td><td>0.1</td><td>0.8</td><td>-3.1102e7</td></tr><tr><th>21</th><td>0.001</td><td>0.001</td><td>0.1</td><td>0.9</td><td>-3.10371e7</td></tr><tr><th>22</th><td>0.001</td><td>0.001</td><td>0.1</td><td>1.0</td><td>-3.10884e7</td></tr><tr><th>23</th><td>0.001</td><td>0.001</td><td>0.2</td><td>0.0</td><td>-1.38269e8</td></tr><tr><th>24</th><td>0.001</td><td>0.001</td><td>0.2</td><td>0.1</td><td>-1.55075e7</td></tr><tr><th>25</th><td>0.001</td><td>0.001</td><td>0.2</td><td>0.2</td><td>5.35533e7</td></tr><tr><th>26</th><td>0.001</td><td>0.001</td><td>0.2</td><td>0.3</td><td>-2.88647e7</td></tr><tr><th>27</th><td>0.001</td><td>0.001</td><td>0.2</td><td>0.4</td><td>-8.3446e7</td></tr><tr><th>28</th><td>0.001</td><td>0.001</td><td>0.2</td><td>0.5</td><td>-1.03891e8</td></tr><tr><th>29</th><td>0.001</td><td>0.001</td><td>0.2</td><td>0.6</td><td>-1.13096e8</td></tr><tr><th>30</th><td>0.001</td><td>0.001</td><td>0.2</td><td>0.7</td><td>-1.17779e8</td></tr><tr><th>&vellip;</th><td>&vellip;</td><td>&vellip;</td><td>&vellip;</td><td>&vellip;</td><td>&vellip;</td></tr></tbody></table></div>"
      ],
      "text/latex": [
       "\\begin{tabular}{r|ccccc}\n",
       "\t& cost\\_x & cost\\_y & X0 & Y0 & Rel\\_dens\\\\\n",
       "\t\\hline\n",
       "\t& Float64 & Float64 & Float64 & Float64 & Float64\\\\\n",
       "\t\\hline\n",
       "\t1 & 0.001 & 0.001 & 0.0 & 0.0 & -1.0e6 \\\\\n",
       "\t2 & 0.001 & 0.001 & 0.0 & 0.1 & -3.559e7 \\\\\n",
       "\t3 & 0.001 & 0.001 & 0.0 & 0.2 & -1.38268e8 \\\\\n",
       "\t4 & 0.001 & 0.001 & 0.0 & 0.3 & -3.07516e8 \\\\\n",
       "\t5 & 0.001 & 0.001 & 0.0 & 0.4 & -5.4195e8 \\\\\n",
       "\t6 & 0.001 & 0.001 & 0.0 & 0.5 & -8.40454e8 \\\\\n",
       "\t7 & 0.001 & 0.001 & 0.0 & 0.6 & -1.20197e9 \\\\\n",
       "\t8 & 0.001 & 0.001 & 0.0 & 0.7 & -1.62536e9 \\\\\n",
       "\t9 & 0.001 & 0.001 & 0.0 & 0.8 & -2.11062e9 \\\\\n",
       "\t10 & 0.001 & 0.001 & 0.0 & 0.9 & -2.65609e9 \\\\\n",
       "\t11 & 0.001 & 0.001 & 0.0 & 1.0 & -3.26266e9 \\\\\n",
       "\t12 & 0.001 & 0.001 & 0.1 & 0.0 & -3.559e7 \\\\\n",
       "\t13 & 0.001 & 0.001 & 0.1 & 0.1 & 5.33388e6 \\\\\n",
       "\t14 & 0.001 & 0.001 & 0.1 & 0.2 & -1.70587e7 \\\\\n",
       "\t15 & 0.001 & 0.001 & 0.1 & 0.3 & -2.57067e7 \\\\\n",
       "\t16 & 0.001 & 0.001 & 0.1 & 0.4 & -2.8551e7 \\\\\n",
       "\t17 & 0.001 & 0.001 & 0.1 & 0.5 & -2.98437e7 \\\\\n",
       "\t18 & 0.001 & 0.001 & 0.1 & 0.6 & -3.04949e7 \\\\\n",
       "\t19 & 0.001 & 0.001 & 0.1 & 0.7 & -3.05789e7 \\\\\n",
       "\t20 & 0.001 & 0.001 & 0.1 & 0.8 & -3.1102e7 \\\\\n",
       "\t21 & 0.001 & 0.001 & 0.1 & 0.9 & -3.10371e7 \\\\\n",
       "\t22 & 0.001 & 0.001 & 0.1 & 1.0 & -3.10884e7 \\\\\n",
       "\t23 & 0.001 & 0.001 & 0.2 & 0.0 & -1.38269e8 \\\\\n",
       "\t24 & 0.001 & 0.001 & 0.2 & 0.1 & -1.55075e7 \\\\\n",
       "\t25 & 0.001 & 0.001 & 0.2 & 0.2 & 5.35533e7 \\\\\n",
       "\t26 & 0.001 & 0.001 & 0.2 & 0.3 & -2.88647e7 \\\\\n",
       "\t27 & 0.001 & 0.001 & 0.2 & 0.4 & -8.3446e7 \\\\\n",
       "\t28 & 0.001 & 0.001 & 0.2 & 0.5 & -1.03891e8 \\\\\n",
       "\t29 & 0.001 & 0.001 & 0.2 & 0.6 & -1.13096e8 \\\\\n",
       "\t30 & 0.001 & 0.001 & 0.2 & 0.7 & -1.17779e8 \\\\\n",
       "\t$\\dots$ & $\\dots$ & $\\dots$ & $\\dots$ & $\\dots$ & $\\dots$ \\\\\n",
       "\\end{tabular}\n"
      ],
      "text/plain": [
       "\u001b[1m4356×5 DataFrame\u001b[0m\n",
       "\u001b[1m  Row \u001b[0m│\u001b[1m cost_x  \u001b[0m\u001b[1m cost_y  \u001b[0m\u001b[1m X0      \u001b[0m\u001b[1m Y0      \u001b[0m\u001b[1m Rel_dens    \u001b[0m\n",
       "\u001b[1m      \u001b[0m│\u001b[90m Float64 \u001b[0m\u001b[90m Float64 \u001b[0m\u001b[90m Float64 \u001b[0m\u001b[90m Float64 \u001b[0m\u001b[90m Float64     \u001b[0m\n",
       "──────┼─────────────────────────────────────────────────\n",
       "    1 │   0.001    0.001      0.0      0.0  -1.0e6\n",
       "    2 │   0.001    0.001      0.0      0.1  -3.559e7\n",
       "    3 │   0.001    0.001      0.0      0.2  -1.38268e8\n",
       "    4 │   0.001    0.001      0.0      0.3  -3.07516e8\n",
       "    5 │   0.001    0.001      0.0      0.4  -5.4195e8\n",
       "    6 │   0.001    0.001      0.0      0.5  -8.40454e8\n",
       "    7 │   0.001    0.001      0.0      0.6  -1.20197e9\n",
       "    8 │   0.001    0.001      0.0      0.7  -1.62536e9\n",
       "    9 │   0.001    0.001      0.0      0.8  -2.11062e9\n",
       "   10 │   0.001    0.001      0.0      0.9  -2.65609e9\n",
       "   11 │   0.001    0.001      0.0      1.0  -3.26266e9\n",
       "  ⋮   │    ⋮        ⋮        ⋮        ⋮          ⋮\n",
       " 4347 │   0.5      0.5        1.0      0.1   1.0337e10\n",
       " 4348 │   0.5      0.5        1.0      0.2   1.02449e10\n",
       " 4349 │   0.5      0.5        1.0      0.3   1.00832e10\n",
       " 4350 │   0.5      0.5        1.0      0.4   9.85806e9\n",
       " 4351 │   0.5      0.5        1.0      0.5   9.56679e9\n",
       " 4352 │   0.5      0.5        1.0      0.6   9.2127e9\n",
       " 4353 │   0.5      0.5        1.0      0.7   8.79579e9\n",
       " 4354 │   0.5      0.5        1.0      0.8   8.31093e9\n",
       " 4355 │   0.5      0.5        1.0      0.9   7.77381e9\n",
       " 4356 │   0.5      0.5        1.0      1.0   7.1639e9\n",
       "\u001b[36m                                       4335 rows omitted\u001b[0m"
      ]
     },
     "execution_count": 6,
     "metadata": {},
     "output_type": "execute_result"
    }
   ],
   "source": [
    "checker_cost = DataFrame(CSV.File(\"../../data/processed/checkerboards/checker_cost.tsv\"))"
   ]
  },
  {
   "cell_type": "code",
   "execution_count": 7,
   "metadata": {
    "id": "_vALN7crgD6F",
    "outputId": "5d50023c-b008-4c09-c7a9-e5d155dac16a"
   },
   "outputs": [
    {
     "data": {
      "text/plain": [
       "9.316570709022335e9"
      ]
     },
     "execution_count": 7,
     "metadata": {},
     "output_type": "execute_result"
    }
   ],
   "source": [
    "max = maximum(checker_amino[:,3])"
   ]
  },
  {
   "cell_type": "code",
   "execution_count": 8,
   "metadata": {
    "id": "lCJUJCRTgD6F",
    "outputId": "81f2c9f6-263c-4723-d239-db7dcc740f5d"
   },
   "outputs": [
    {
     "ename": "LoadError",
     "evalue": "\u001b[91mMethodError: no method matching cgrad(::ColorScheme{Array{RGB{Float64},1},String,String}, ::StepRangeLen{Float64,Base.TwicePrecision{Float64},Base.TwicePrecision{Float64}}; categorical=nothing, rev=true, clims=[-1.267370917795733e10, 9.316570709022335e9])\u001b[39m\n\u001b[91m\u001b[0mClosest candidates are:\u001b[39m\n\u001b[91m\u001b[0m  cgrad(::ColorScheme, ::Any; categorical, scale, rev, alpha) at /Users/esb/.julia/packages/PlotUtils/ebPq2/src/colorschemes.jl:190\u001b[91m got unsupported keyword argument \"clims\"\u001b[39m\u001b[39m\n\u001b[91m\u001b[0m  cgrad(::Any, ::Any...; kwargs...) at /Users/esb/.julia/packages/PlotUtils/ebPq2/src/colorschemes.jl:236\u001b[39m\n\u001b[91m\u001b[0m  cgrad(::ColorScheme) at /Users/esb/.julia/packages/PlotUtils/ebPq2/src/colorschemes.jl:231\u001b[91m got unsupported keyword arguments \"categorical\", \"rev\", \"clims\"\u001b[39m\u001b[39m\n\u001b[91m\u001b[0m  ...\u001b[39m",
     "output_type": "error",
     "traceback": [
      "\u001b[91mMethodError: no method matching cgrad(::ColorScheme{Array{RGB{Float64},1},String,String}, ::StepRangeLen{Float64,Base.TwicePrecision{Float64},Base.TwicePrecision{Float64}}; categorical=nothing, rev=true, clims=[-1.267370917795733e10, 9.316570709022335e9])\u001b[39m\n\u001b[91m\u001b[0mClosest candidates are:\u001b[39m\n\u001b[91m\u001b[0m  cgrad(::ColorScheme, ::Any; categorical, scale, rev, alpha) at /Users/esb/.julia/packages/PlotUtils/ebPq2/src/colorschemes.jl:190\u001b[91m got unsupported keyword argument \"clims\"\u001b[39m\u001b[39m\n\u001b[91m\u001b[0m  cgrad(::Any, ::Any...; kwargs...) at /Users/esb/.julia/packages/PlotUtils/ebPq2/src/colorschemes.jl:236\u001b[39m\n\u001b[91m\u001b[0m  cgrad(::ColorScheme) at /Users/esb/.julia/packages/PlotUtils/ebPq2/src/colorschemes.jl:231\u001b[91m got unsupported keyword arguments \"categorical\", \"rev\", \"clims\"\u001b[39m\u001b[39m\n\u001b[91m\u001b[0m  ...\u001b[39m",
      "",
      "Stacktrace:",
      " [1] kwerr(::NamedTuple{(:categorical, :rev, :clims),Tuple{Nothing,Bool,Array{Float64,1}}}, ::Function, ::ColorScheme{Array{RGB{Float64},1},String,String}, ::StepRangeLen{Float64,Base.TwicePrecision{Float64},Base.TwicePrecision{Float64}}) at ./error.jl:157",
      " [2] #cgrad#17 at /Users/esb/.julia/packages/PlotUtils/ebPq2/src/colorschemes.jl:233 [inlined]",
      " [3] #cgrad#18 at /Users/esb/.julia/packages/PlotUtils/ebPq2/src/colorschemes.jl:240 [inlined]",
      " [4] top-level scope at In[8]:8",
      " [5] include_string(::Function, ::Module, ::String, ::String) at ./loading.jl:1091"
     ]
    }
   ],
   "source": [
    "max = maximum(checker_amino[:,3])\n",
    "gradient=ColorSchemes.PRGn_5.colors\n",
    "ys = string.(collect(range(0.0,stop=10.0,length=11)))\n",
    "xs = string.(collect(range(0.0,stop=10.0,length=11)))\n",
    "    \n",
    "resh = reshape(checker_amino[:,3], (isqrt(size(checker_amino[:,3])[1]), isqrt(size(checker_amino[:,3])[1])))\n",
    "    \n",
    "plt = plot(resh, st=:contour, xaxis=\"Amino acid concentration [X] ->\", yaxis=\"Amino acid concentration [Y] ->\", \n",
    "    #c = :PRGn_5\n",
    "    color=cgrad(gradient, rev = true, clims=[minimum(checker_G[:,3]), maximum(checker_amino[:,3])]), \n",
    "    colorbar_title=\"Relative Density\", xtickfontrotation=-60, fill=true)\n",
    "plot!(yticks = (1.0:10:101.0, ys), xticks = (1.0:10:101.0, xs))"
   ]
  },
  {
   "cell_type": "code",
   "execution_count": 9,
   "metadata": {
    "id": "gegc9SgKgD6G"
   },
   "outputs": [],
   "source": [
    "category = Float64[]\n",
    "\n",
    "for i in 1:length(checker_amino[:,3])\n",
    "    if checker_amino[i,3] >= 3e9\n",
    "        push!(category, 1)\n",
    "    elseif checker_amino[i,3] <= -6e9\n",
    "        push!(category, -1)\n",
    "    elseif checker_amino[i,3] <= 3e9 && checker_amino[i,3] >= -6e9\n",
    "        push!(category, 0)\n",
    "    end\n",
    "end"
   ]
  },
  {
   "cell_type": "code",
   "execution_count": 10,
   "metadata": {
    "id": "i1lcd77hgD6H",
    "outputId": "74eb81e8-053f-4e41-a5f0-dcda5482c460"
   },
   "outputs": [
    {
     "data": {
      "image/png": "[encoded data removed]"
     },
     "execution_count": 10,
     "metadata": {},
     "output_type": "execute_result"
    },
    {
     "name": "stderr",
     "output_type": "stream",
     "text": [
      "sys:1: UserWarning: The following kwargs were not used by contour: 'label'\n"
     ]
    }
   ],
   "source": [
    "ys = string.(collect(range(0.0,stop=10.0,length=11)))\n",
    "xs = string.(collect(range(0.0,stop=10.0,length=11)))\n",
    "plot!(yticks = (1.0:10:101.0, ys), xticks = (1.0:10:101.0, xs))    \n",
    "\n",
    "gradient=ColorSchemes.PRGn_5.colors\n",
    "\n",
    "resh_c = reshape(category, (isqrt(size(category)[1]), isqrt(size(category)[1])))\n",
    "    \n",
    "plt = plot(resh_c, st=:contour, xaxis=\"Amino acid concentration [X] ->\", yaxis=\"Amino acid concentration [Y] ->\", \n",
    "    color=cgrad(gradient, rev= true), \n",
    "    colorbar_title=\"Relative Density\", xtickfontrotation=-60, fill=true, levels = 3)"
   ]
  },
  {
   "cell_type": "code",
   "execution_count": 11,
   "metadata": {
    "id": "lfkGqOiSgD6H",
    "outputId": "84518ad3-36c7-4ea7-eb3b-3bb136eb2896"
   },
   "outputs": [
    {
     "data": {
      "image/png": "[encoded data removed]"
     },
     "execution_count": 11,
     "metadata": {},
     "output_type": "execute_result"
    }
   ],
   "source": [
    "gradient=ColorSchemes.PRGn_5.colors\n",
    "ys = string.(collect(range(0.0,stop=10.0,length=11)))\n",
    "xs = string.(collect(range(0.0,stop=10.0,length=11)))\n",
    "    \n",
    "resh = reshape(checker_G[:,3], (isqrt(size(checker_G[:,3])[1]), isqrt(size(checker_G[:,3])[1])))\n",
    "    \n",
    "plt = plot(resh, st=:contour, xaxis=\"Amino acid concentration [X] ->\", yaxis=\"Amino acid concentration [Y] ->\", \n",
    "    color=cgrad(gradient, rev=true), \n",
    "    colorbar_title=\"Relative Density\", xtickfontrotation=-60, fill=true)\n",
    "plot!(yticks = (1.0:10:101.0, ys), xticks = (1.0:10:101.0, xs))"
   ]
  },
  {
   "cell_type": "code",
   "execution_count": null,
   "metadata": {
    "id": "H4KeaOm5gD6I"
   },
   "outputs": [],
   "source": []
  },
  {
   "cell_type": "code",
   "execution_count": null,
   "metadata": {
    "id": "H0mr0VZvgD6I"
   },
   "outputs": [],
   "source": []
  }
 ],
 "metadata": {
  "@webio": {
   "lastCommId": "1352e25be28e42398bfbbf4853459391",
   "lastKernelId": "f474aefd-59da-4499-b37f-ecd8da565b60"
  },
  "colab": {
   "name": "Figure5.ipynb",
   "provenance": []
  },
  "kernelspec": {
   "display_name": "Julia 1.5.3",
   "language": "julia",
   "name": "julia-1.5"
  },
  "language_info": {
   "file_extension": ".jl",
   "mimetype": "application/julia",
   "name": "julia",
   "version": "1.5.3"
  }
 },
 "nbformat": 4,
 "nbformat_minor": 1
}
